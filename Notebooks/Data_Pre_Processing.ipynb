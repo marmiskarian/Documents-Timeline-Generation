{
 "cells": [
  {
   "cell_type": "markdown",
   "id": "2544f98e-bbb1-464c-bfae-6158397da672",
   "metadata": {},
   "source": [
    "The data used for the **Proof of Concept (PoC)** of the Timeline Generation idea is sourced from the **FDI Moot, an international competition focused on investment arbitration**, which simulates investment treaty arbitration proceedings.\n",
    "\n",
    "The preprocessing of the FDI Moot document involves **separating concatenated documents into individual files to simulate a real-life user experience**, where users typically upload documents separately rather than after concatenating them together."
   ]
  },
  {
   "cell_type": "code",
   "execution_count": 1,
   "id": "c16f67bf-38d8-4186-9649-bad9562670cc",
   "metadata": {
    "tags": []
   },
   "outputs": [],
   "source": [
    "import os\n",
    "import fitz"
   ]
  },
  {
   "cell_type": "code",
   "execution_count": 2,
   "id": "4596c1a4-1f0c-467d-af57-d0f0114652ac",
   "metadata": {},
   "outputs": [],
   "source": [
    "pdf_filename = 'fdi_moot_case_2024.pdf'\n",
    "pdf_file_path = os.path.join(f'../Data/pdfs', pdf_filename)"
   ]
  },
  {
   "cell_type": "code",
   "execution_count": 3,
   "id": "a93bde63-6cbe-4532-bc59-bb7370ed2d38",
   "metadata": {},
   "outputs": [],
   "source": [
    "def extract_table_of_contents(pdf_path):\n",
    "    \"\"\"\n",
    "    Extracts the text of the first two pages of a PDF document to capture the table of contents.\n",
    "\n",
    "    Args:\n",
    "        pdf_path (str): The file path to the PDF document.\n",
    "\n",
    "    Returns:\n",
    "        str: The extracted text from the first two pages of the PDF document.\n",
    "    \"\"\"\n",
    "    text = \"\"\n",
    "    with fitz.open(pdf_path) as pdf_document:\n",
    "        for page_num in range(1, 3):\n",
    "            page = pdf_document[page_num]\n",
    "            text += page.get_text()\n",
    "    return text"
   ]
  },
  {
   "cell_type": "code",
   "execution_count": 4,
   "id": "007013ac-2137-4d2b-b76a-db7a32ff9eda",
   "metadata": {},
   "outputs": [],
   "source": [
    "table_of_contents = extract_table_of_contents(pdf_file_path)\n",
    "table_of_contents = table_of_contents.split('\\n')[2:-1]"
   ]
  },
  {
   "cell_type": "code",
   "execution_count": 5,
   "id": "877cd8b0-39fc-46f9-9e27-60dd17f93013",
   "metadata": {},
   "outputs": [],
   "source": [
    "table_of_contents_pages = []\n",
    "for line in table_of_contents:\n",
    "    page_number = line.split(' ')[-2]\n",
    "    if page_number.isdigit():\n",
    "        page_number = int(page_number)\n",
    "        if not table_of_contents_pages or page_number > table_of_contents_pages[-1]:\n",
    "            table_of_contents_pages.append(page_number)"
   ]
  },
  {
   "cell_type": "code",
   "execution_count": 6,
   "id": "d07cdd97-cb96-4d58-a47b-c02c54acfc34",
   "metadata": {},
   "outputs": [],
   "source": [
    "def split_pdf_by_page_ranges(pdf_path, page_ranges):\n",
    "    \"\"\"\n",
    "    Splits a PDF into multiple PDFs based on the specified page ranges.\n",
    "\n",
    "    Args:\n",
    "        pdf_path (str): The file path to the input PDF.\n",
    "        page_ranges (list): A list of tuples specifying the start and end page numbers for each range.\n",
    "                            Each tuple should contain two integers: (start_page, end_page).\n",
    "\n",
    "    Raises:\n",
    "        ValueError: If the input PDF has zero pages or if any specified page range is invalid.\n",
    "\n",
    "    Note:\n",
    "        The page ranges should be specified as 1-indexed page numbers.\n",
    "        The last page range specified should cover until the last page of the PDF.\n",
    "\n",
    "    Example:\n",
    "        If `page_ranges` is [(1, 5), (6, 10), (11, 15)], the PDF will be split into three parts:\n",
    "        - Part 1 will contain pages 1 to 5.\n",
    "        - Part 2 will contain pages 6 to 10.\n",
    "        - Part 3 will contain pages 11 to 15.\n",
    "    \"\"\"\n",
    "    with fitz.open(pdf_path) as pdf_document:\n",
    "        if len(pdf_document) == 0:\n",
    "            raise ValueError(\"Cannot split PDF with zero pages\")\n",
    "\n",
    "        # For not encountering errors while reruning\n",
    "        if page_ranges[-1] != len(pdf_document) + 1:\n",
    "            page_ranges.append(len(pdf_document) + 1)\n",
    "        \n",
    "        folder_name = os.path.splitext(os.path.basename(pdf_path))[0]\n",
    "        folder_path = f'../Data/{folder_name}'\n",
    "        if not os.path.exists(folder_path):\n",
    "            os.mkdir(folder_path)\n",
    "        \n",
    "        for i, (start_page, end_page) in enumerate(zip(page_ranges[:-1], page_ranges[1:])):\n",
    "            if end_page <= start_page:\n",
    "                continue  # Skip invalid page ranges\n",
    "            output_pdf_path = f'{folder_path}/{folder_name}_part_{i + 1}.pdf'\n",
    "            new_pdf = fitz.open()\n",
    "            for page_number in range(start_page - 1, end_page - 1):\n",
    "                new_pdf.insert_pdf(pdf_document, from_page=page_number, to_page=page_number)\n",
    "            new_pdf.save(output_pdf_path)"
   ]
  },
  {
   "cell_type": "code",
   "execution_count": 7,
   "id": "c11e588b-6d61-4c77-a5f2-e0008c1163b1",
   "metadata": {},
   "outputs": [],
   "source": [
    "split_pdf_by_page_ranges(pdf_file_path, page_ranges=table_of_contents_pages)"
   ]
  },
  {
   "cell_type": "code",
   "execution_count": null,
   "id": "e3b2a26c-48df-4825-9a45-4bf675f8df85",
   "metadata": {},
   "outputs": [],
   "source": []
  }
 ],
 "metadata": {
  "kernelspec": {
   "display_name": "Python 3 (ipykernel)",
   "language": "python",
   "name": "python3"
  },
  "language_info": {
   "codemirror_mode": {
    "name": "ipython",
    "version": 3
   },
   "file_extension": ".py",
   "mimetype": "text/x-python",
   "name": "python",
   "nbconvert_exporter": "python",
   "pygments_lexer": "ipython3",
   "version": "3.10.0"
  }
 },
 "nbformat": 4,
 "nbformat_minor": 5
}
